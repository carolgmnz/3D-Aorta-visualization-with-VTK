{
 "cells": [
  {
   "cell_type": "markdown",
   "metadata": {},
   "source": [
    "##  Exercise II: Levels of Detail"
   ]
  },
  {
   "cell_type": "markdown",
   "metadata": {},
   "source": [
    "*Carolina Giménez Arias*"
   ]
  },
  {
   "cell_type": "code",
   "execution_count": 1,
   "metadata": {},
   "outputs": [],
   "source": [
    "import numpy \n",
    "from stl import mesh\n",
    "import vtk\n",
    "import time"
   ]
  },
  {
   "cell_type": "code",
   "execution_count": 6,
   "metadata": {},
   "outputs": [],
   "source": [
    "# Cargamos el archivo que contiene la aorta\n",
    "aorta = vtk.vtkSTLReader()\n",
    "aorta.SetFileName(\"a1.stl\")"
   ]
  },
  {
   "cell_type": "code",
   "execution_count": 7,
   "metadata": {},
   "outputs": [],
   "source": [
    "# Iniciamos ventana\n",
    "rw = vtk.vtkRenderWindow()\n",
    "iren = vtk.vtkRenderWindowInteractor()\n",
    "iren.SetRenderWindow(rw)\n",
    "\n",
    "# Rangos del viewport\n",
    "xmins=[0,0.5,0,0.5]\n",
    "xmaxs=[0.5,1,0.5,1]\n",
    "ymins=[0,0,0.5,0.5]\n",
    "ymaxs=[0.5,0.5,1,1]\n",
    "\n",
    "dreduc = [0, 0.3, 0.6, 0.9] #niveles de reduccion del número de triángulos (decimate)\n",
    "slevels = [1,500,3000,6000] #niveles de smooth\n",
    "\n",
    "for i in range(4):\n",
    "    # Creamos renderer\n",
    "    ren = vtk.vtkRenderer()\n",
    "    rw.AddRenderer(ren)        \n",
    "    ren.SetViewport(xmins[i],ymins[i],xmaxs[i],ymaxs[i])\n",
    "    \n",
    "    # Decimate\n",
    "    decimate = vtk.vtkDecimatePro()\n",
    "    decimate.SetInputConnection(aorta.GetOutputPort())\n",
    "    decimate.SetTargetReduction(dreduc[i])\n",
    "    \n",
    "    # Smooth\n",
    "    smoother = vtk.vtkSmoothPolyDataFilter()\n",
    "    smoother.SetInputConnection(decimate.GetOutputPort())\n",
    "    smoother.SetNumberOfIterations(slevels[i])\n",
    "    \n",
    "    # Creamos mapper y actor\n",
    "    mapper = vtk.vtkPolyDataMapper()\n",
    "    mapper.SetInputConnection(smoother.GetOutputPort())     \n",
    "    actor = vtk.vtkActor()\n",
    "    actor.SetMapper(mapper)\n",
    "    actor.GetProperty().SetColor(0.9,0.4,0.2) # (R,G,B) Le damos el color naranja\n",
    "    \n",
    "    ren.AddActor(actor)\n",
    "    ren.ResetCamera()\n",
    "    \n",
    "rw.Render()\n",
    "rw.SetWindowName('Multiple levels of detail of the aorta')\n",
    "iren.Start()\n"
   ]
  },
  {
   "cell_type": "markdown",
   "metadata": {},
   "source": [
    "Se observa como a medida que reducimos el número de triángulos con el decimate, la figura tiene una forma más \"ruda\", lo que provoca que sea más complicado suavizarla con el smooth (razón por la cuál la aorta de la esquina superior derecha cobra esa forma). Cabe resaltar que el orden  de las imágenes sale invertido (3,4,1,2)"
   ]
  },
  {
   "cell_type": "code",
   "execution_count": null,
   "metadata": {},
   "outputs": [],
   "source": []
  }
 ],
 "metadata": {
  "kernelspec": {
   "display_name": "Python 3",
   "language": "python",
   "name": "python3"
  },
  "language_info": {
   "codemirror_mode": {
    "name": "ipython",
    "version": 3
   },
   "file_extension": ".py",
   "mimetype": "text/x-python",
   "name": "python",
   "nbconvert_exporter": "python",
   "pygments_lexer": "ipython3",
   "version": "3.6.5"
  }
 },
 "nbformat": 4,
 "nbformat_minor": 2
}
